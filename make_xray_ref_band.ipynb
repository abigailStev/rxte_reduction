{
 "cells": [
  {
   "cell_type": "code",
   "execution_count": 21,
   "metadata": {
    "collapsed": true
   },
   "outputs": [],
   "source": [
    "import os.path\n",
    "import numpy as np\n",
    "from astropy.io import fits\n",
    "import subprocess\n",
    "from datetime import datetime"
   ]
  },
  {
   "cell_type": "code",
   "execution_count": 11,
   "metadata": {
    "collapsed": false
   },
   "outputs": [],
   "source": [
    "HOME_DIR = os.path.expanduser(\"~\")\n",
    "RED_DIR = HOME_DIR + \"/Reduced_data/GX339-BQPO/95409-01-15-06\"\n",
    "GTId_evtlist = RED_DIR + \"/GTId_eventlist.fits\"\n",
    "assert os.path.isfile(GTId_evtlist)"
   ]
  },
  {
   "cell_type": "code",
   "execution_count": 12,
   "metadata": {
    "collapsed": true
   },
   "outputs": [],
   "source": [
    "try:\n",
    "    fits_hdu = fits.open(GTId_evtlist)\n",
    "except IOError:\n",
    "    print(\"\\tERROR: File does not exist: %s\" % in_file)\n",
    "    sys.exit()\n",
    "header = fits_hdu[0].header\t ## Header info is in ext 0, data is in ext 1\n",
    "data = fits_hdu[1].data\n",
    "fits_hdu.close()"
   ]
  },
  {
   "cell_type": "code",
   "execution_count": 13,
   "metadata": {
    "collapsed": true
   },
   "outputs": [],
   "source": [
    "PCU0_mask = data.field('PCUID') == 0\n",
    "ref_data = data[PCU0_mask]"
   ]
  },
  {
   "cell_type": "code",
   "execution_count": 14,
   "metadata": {
    "collapsed": true
   },
   "outputs": [],
   "source": [
    "all_time = np.asarray(ref_data.field('TIME'), dtype=np.float64)\n",
    "all_energy = np.asarray(ref_data.field('CHANNEL'), dtype=np.float64)"
   ]
  },
  {
   "cell_type": "code",
   "execution_count": 17,
   "metadata": {
    "collapsed": false
   },
   "outputs": [
    {
     "name": "stdout",
     "output_type": "stream",
     "text": [
      "514596968.379649162292480\n",
      "514598408.377696037292480\n"
     ]
    }
   ],
   "source": [
    "print \"%.15f\" % all_time[0]\n",
    "print \"%.15f\" % all_time[-1]"
   ]
  },
  {
   "cell_type": "code",
   "execution_count": 22,
   "metadata": {
    "collapsed": false
   },
   "outputs": [],
   "source": [
    "prihdr = fits.Header()\n",
    "prihdr.set('DATE', str(datetime.now()), \"YYYY-MM-DD localtime\")\n",
    "prihdu = fits.PrimaryHDU(header=prihdr)\n",
    "\n",
    "col1 = fits.Column(name='TIME', format='D', array=all_time)\n",
    "col2 = fits.Column(name='CHANNEL', format='K', array=all_energy)\n",
    "cols = fits.ColDefs([col1, col2])\n",
    "tbhdu = fits.BinTableHDU.from_columns(cols)\n",
    "\n",
    "thdulist = fits.HDUList([prihdu, tbhdu])\n",
    "new_ref_band_file = RED_DIR + \"/test_ref_band.fits\"\n",
    "thdulist.writeto(new_ref_band_file)"
   ]
  },
  {
   "cell_type": "code",
   "execution_count": 23,
   "metadata": {
    "collapsed": false
   },
   "outputs": [
    {
     "name": "stdout",
     "output_type": "stream",
     "text": [
      "/Users/abigailstevens/Reduced_data/GX339-BQPO/95409-01-15-06/test_ref_band.fits\n"
     ]
    }
   ],
   "source": [
    "print new_ref_band_file"
   ]
  },
  {
   "cell_type": "code",
   "execution_count": null,
   "metadata": {
    "collapsed": true
   },
   "outputs": [],
   "source": []
  }
 ],
 "metadata": {
  "kernelspec": {
   "display_name": "Python 2",
   "language": "python",
   "name": "python2"
  },
  "language_info": {
   "codemirror_mode": {
    "name": "ipython",
    "version": 2
   },
   "file_extension": ".py",
   "mimetype": "text/x-python",
   "name": "python",
   "nbconvert_exporter": "python",
   "pygments_lexer": "ipython2",
   "version": "2.7.10"
  }
 },
 "nbformat": 4,
 "nbformat_minor": 0
}
