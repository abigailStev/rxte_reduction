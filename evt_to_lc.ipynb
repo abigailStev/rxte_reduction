{
 "cells": [
  {
   "cell_type": "code",
   "execution_count": 211,
   "metadata": {
    "collapsed": true
   },
   "outputs": [],
   "source": [
    "import numpy as np\n",
    "from astropy.io import fits\n",
    "import os.path\n",
    "import matplotlib.pyplot as plt\n",
    "import matplotlib.font_manager as font_manager\n",
    "%matplotlib inline"
   ]
  },
  {
   "cell_type": "code",
   "execution_count": 216,
   "metadata": {
    "collapsed": true
   },
   "outputs": [],
   "source": [
    "# eventlist = \"/Users/abigailstevens/Reduced_data/GX339-BQPO/95409-01-17-06/eventlist_1.fits\"\n",
    "eventlist = \"/Users/abigailstevens/Dropbox/Academic/Conferences\\ \\&\\ Talks/DC_talks/cygx1_counts.lc\"\n",
    "time_binning = .02  # seconds\n",
    "lc_length = 2  # seconds\n",
    "show_fits_info = False\n",
    "pcu = 2  # -1 = all\n",
    "channel = -1   # -1 = all"
   ]
  },
  {
   "cell_type": "code",
   "execution_count": 217,
   "metadata": {
    "collapsed": false
   },
   "outputs": [],
   "source": [
    "detchans = 64\n",
    "if not os.path.isfile(eventlist):\n",
    "    raise Exception(\"ERROR: Event list does not exist: %s\" % eventlist)\n",
    "assert pcu <= 4, \"PCU must be between 0 and 4 inclusive, or -1 for all PCUs.\"\n",
    "\n",
    "try:\n",
    "    fits_hdu = fits.open(eventlist)\n",
    "except IOError:\n",
    "    print \"Issue opening fits file event list: %s\" % eventlist\n",
    "\n",
    "header = fits_hdu[0].header\n",
    "data = fits_hdu[1].data\n",
    "fits_hdu.close()\n",
    "\n",
    "if show_fits_info:\n",
    "    print header.keys\n",
    "    print \"\\n\", data.columns.names\n",
    "    \n",
    "if pcu != -1:\n",
    "    PCU2_mask = data.field('PCUID') != pcu\n",
    "    data = data[PCU2_mask]\n",
    "# if channel != -1:\n",
    "#     channel_mask = data.field('CHANNEL') == channel\n",
    "#     data = data[channel_mask]\n",
    "# print len(data)"
   ]
  },
  {
   "cell_type": "code",
   "execution_count": 220,
   "metadata": {
    "collapsed": false
   },
   "outputs": [],
   "source": [
    "absolute_start_time = data.field('TIME')[0]\n",
    "time = np.asarray(data.field('TIME')) - absolute_start_time\n",
    "chan = np.asarray(data.field('CHANNEL'))\n",
    "# start_time = time[0]\n",
    "start_time = 10\n",
    "end_time = time[-1]\n",
    "if lc_length > end_time:\n",
    "    print \"Requested lightcurve length is longer than data. Making light curve of whole data set.\"\n",
    "    lc_length = end_time\n",
    "\n",
    "time_edges = np.arange(start_time, start_time+lc_length+time_binning, time_binning)\n",
    "chan_edges = np.arange(0,detchans+1, 1)\n",
    "lightcurve, t_edges, c_edges = np.histogram2d(time, chan, bins=[time_edges, chan_edges])\n",
    "t_bin_centers = 0.5 * (t_edges[1:]+t_edges[:-1])\n",
    "mean_count_rate = np.sum(lightcurve, axis=0) / lc_length"
   ]
  },
  {
   "cell_type": "code",
   "execution_count": 229,
   "metadata": {
    "collapsed": false
   },
   "outputs": [
    {
     "name": "stdout",
     "output_type": "stream",
     "text": [
      "Mean count rate: 702.5\n"
     ]
    }
   ],
   "source": [
    "if channel == -1:\n",
    "    lc = np.sum(lightcurve[:,2:26], axis=1)\n",
    "    title = \"Reference band\"\n",
    "    title = \"\"\n",
    "    mean_rate = np.sum(mean_count_rate[2:26])\n",
    "else:\n",
    "    lc = lightcurve[:,channel]\n",
    "    title = \"Channel %d\" % channel\n",
    "    mean_rate = mean_count_rate[channel]\n",
    "\n",
    "print \"Mean count rate:\", mean_rate\n",
    "\n",
    "font_prop = font_manager.FontProperties(size=18)\n",
    "\n",
    "fig, ax = plt.subplots(1, 1, figsize=(16, 6), dpi=300)\n",
    "ax.plot(t_bin_centers-start_time, lc, lw=3, color='purple')\n",
    "ax.set_title(title)\n",
    "ax.set_xlabel(\"Arbitrary time (s)\", fontproperties=font_prop)\n",
    "ax.set_ylabel(\"Photon counts\", fontproperties=font_prop)\n",
    "ax.tick_params(axis='x', labelsize=18)\n",
    "ax.tick_params(axis='y', labelsize=18)\n",
    "ax.set_ylim(5, 23)\n",
    "# plt.show()\n",
    "plt.savefig(\"/Users/abigailstevens/Dropbox/Academic/95409-01-17-06_ref_lc.eps\")\n",
    "plt.close()"
   ]
  },
  {
   "cell_type": "code",
   "execution_count": null,
   "metadata": {
    "collapsed": true
   },
   "outputs": [],
   "source": []
  },
  {
   "cell_type": "code",
   "execution_count": null,
   "metadata": {
    "collapsed": true
   },
   "outputs": [],
   "source": []
  }
 ],
 "metadata": {
  "kernelspec": {
   "display_name": "Python 2",
   "language": "python",
   "name": "python2"
  },
  "language_info": {
   "codemirror_mode": {
    "name": "ipython",
    "version": 2
   },
   "file_extension": ".py",
   "mimetype": "text/x-python",
   "name": "python",
   "nbconvert_exporter": "python",
   "pygments_lexer": "ipython2",
   "version": "2.7.10"
  }
 },
 "nbformat": 4,
 "nbformat_minor": 0
}
