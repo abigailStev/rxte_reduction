{
 "cells": [
  {
   "cell_type": "code",
   "execution_count": 1,
   "metadata": {
    "collapsed": true
   },
   "outputs": [],
   "source": [
    "import numpy as np\n",
    "import os.path\n",
    "from astropy.table import Table, Column, MaskedColumn\n",
    "from astropy.io import ascii\n",
    "\n",
    "HOME_DIR = os.path.expanduser(\"~\")\n",
    "power_colours_file = HOME_DIR + \"/Dropbox/Research/rxte_reduce/totalnoCygpowcoldataqporm_mult8.00000_minfr0.00390625.csv\""
   ]
  },
  {
   "cell_type": "code",
   "execution_count": 2,
   "metadata": {
    "collapsed": false
   },
   "outputs": [
    {
     "name": "stdout",
     "output_type": "stream",
     "text": [
      "<TableColumns names=('Object','obsid','MJD','Hardness','Count Rate','Total rms','Angle','Saturation','[0.250:2.000]/[0.004:0.031]','[0.031:0.250]/[2.000:16.000]')>\n",
      "set(['XTE1859', 'H1743', 'XTE1817', '4U1543', 'XTE1752', 'GRO1655', 'GX339', 'XTE1550'])\n"
     ]
    },
    {
     "name": "stderr",
     "output_type": "stream",
     "text": [
      "/anaconda/lib/python2.7/site-packages/IPython/kernel/__main__.py:3: RuntimeWarning: invalid value encountered in greater\n",
      "  app.launch_new_instance()\n",
      "/anaconda/lib/python2.7/site-packages/IPython/kernel/__main__.py:3: RuntimeWarning: invalid value encountered in less\n",
      "  app.launch_new_instance()\n"
     ]
    }
   ],
   "source": [
    "pc_table = ascii.read(power_colours_file)\n",
    "print pc_table.columns\n",
    "selection_mask = (pc_table['Angle'] > 200) & (pc_table['Angle'] < 300) & (pc_table['Count Rate'] > 300)\n",
    "\n",
    "# pc_masked = Table(pc_table, masked=True)  # Convert to a masked table\n",
    "# for col in pc_masked.columns.values():\n",
    "#     col.mask = selection_mask\n",
    "#     col = col[selection_mask]\n",
    "# print pc_masked\n",
    "\n",
    "objectname = pc_table['Object'][selection_mask]\n",
    "mjd = pc_table['MJD'][selection_mask]\n",
    "obsid = pc_table['obsid'][selection_mask]\n",
    "\n",
    "print set(objectname)"
   ]
  },
  {
   "cell_type": "code",
   "execution_count": 3,
   "metadata": {
    "collapsed": false
   },
   "outputs": [
    {
     "name": "stdout",
     "output_type": "stream",
     "text": [
      " Object\n",
      "-------\n",
      "  GX339\n",
      "  GX339\n",
      "  GX339\n",
      "  GX339\n",
      "  GX339\n",
      "  GX339\n",
      "  GX339\n",
      "  GX339\n",
      "  GX339\n",
      "  GX339\n",
      "    ...\n",
      "XTE1859\n",
      "XTE1859\n",
      "XTE1859\n",
      "XTE1859\n",
      "XTE1859\n",
      "XTE1859\n",
      "XTE1859\n",
      "XTE1859\n",
      "XTE1859\n",
      "GRO1655\n",
      "GRO1655\n",
      "Length = 111 rows\n",
      "    obsid     \n",
      "--------------\n",
      "30191-01-33-00\n",
      "30191-01-34-01\n",
      "30191-01-34-00\n",
      "30191-01-35-00\n",
      "40401-01-50-00\n",
      "40401-01-51-00\n",
      "40401-01-53-00\n",
      "40401-01-54-00\n",
      "40401-01-55-00\n",
      "40401-01-51-01\n",
      "40401-01-58-00\n",
      "40401-01-59-00\n",
      "40401-01-62-00\n",
      "50134-02-02-00\n",
      "50134-02-03-01\n",
      "50134-02-06-00\n",
      "50134-02-08-01\n",
      "50134-01-01-00\n",
      "    MJD     \n",
      "------------\n",
      "51108.078125\n",
      "51109.738281\n",
      "51110.269531\n",
      "51112.800781\n",
      "51241.800781\n",
      "51242.507812\n",
      "51245.355469\n",
      "51246.414062\n",
      "51247.980469\n",
      " 51248.09375\n",
      "51253.226562\n",
      " 51255.15625\n",
      "51258.976562\n",
      "51662.167969\n",
      " 51665.40625\n",
      "51670.542969\n",
      "51672.960938\n",
      " 51673.40625\n"
     ]
    }
   ],
   "source": [
    "print objectname\n",
    "object_mask = objectname == \"XTE1550\"\n",
    "objectname = objectname[object_mask]\n",
    "obsid = obsid[object_mask]\n",
    "mjd = mjd[object_mask]\n",
    "print obsid\n",
    "print mjd"
   ]
  },
  {
   "cell_type": "code",
   "execution_count": 25,
   "metadata": {
    "collapsed": false
   },
   "outputs": [
    {
     "name": "stdout",
     "output_type": "stream",
     "text": [
      "    obsid     \n",
      "--------------\n",
      "91110-02-08-00\n",
      "91110-02-10-00\n",
      "91110-02-17-00\n",
      "91110-02-18-01\n",
      "91110-02-22-00\n",
      "91110-02-21-00\n",
      "91110-02-23-00\n",
      "91110-02-29-00\n",
      "91110-02-30-00\n",
      "92082-01-02-03\n",
      "92082-01-02-04\n"
     ]
    }
   ],
   "source": [
    "# mjd_mask = (mjd > 52460.0)\n",
    "# mjd = mjd[mjd_mask]\n",
    "# obsid = obsid[mjd_mask]\n",
    "# objectname = objectname[mjd_mask]\n",
    "print obsid"
   ]
  },
  {
   "cell_type": "code",
   "execution_count": 26,
   "metadata": {
    "collapsed": false
   },
   "outputs": [],
   "source": [
    "output_list = HOME_DIR + \"/Dropbox/Lists/XTE1817_obsIDs.lst\"\n",
    "ascii.write(obsid, output_list, delimiter='\\n', format='no_header')"
   ]
  },
  {
   "cell_type": "code",
   "execution_count": null,
   "metadata": {
    "collapsed": true
   },
   "outputs": [],
   "source": []
  }
 ],
 "metadata": {
  "kernelspec": {
   "display_name": "Python 2",
   "language": "python",
   "name": "python2"
  },
  "language_info": {
   "codemirror_mode": {
    "name": "ipython",
    "version": 2
   },
   "file_extension": ".py",
   "mimetype": "text/x-python",
   "name": "python",
   "nbconvert_exporter": "python",
   "pygments_lexer": "ipython2",
   "version": "2.7.10"
  }
 },
 "nbformat": 4,
 "nbformat_minor": 0
}
